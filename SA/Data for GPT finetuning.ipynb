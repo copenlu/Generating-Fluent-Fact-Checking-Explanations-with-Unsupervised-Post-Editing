{
 "cells": [
  {
   "cell_type": "code",
   "execution_count": 11,
   "metadata": {},
   "outputs": [],
   "source": [
    "import pandas as pd"
   ]
  },
  {
   "cell_type": "code",
   "execution_count": 12,
   "metadata": {},
   "outputs": [
    {
     "name": "stdout",
     "output_type": "stream",
     "text": [
      "Index(['Unnamed: 0.1', 'id', 'statement', 'justification',\n",
      "       'ruling_without_summary', 'label', 'just_tokenized', 'ruling_tokenized',\n",
      "       'statement_tokenized', 'oracle_ids'],\n",
      "      dtype='object')\n",
      "['dummy', 'id', 'statement', 'justification', 'ruling_without_summary', 'label', 'just_tokenized', 'ruling_tokenized', 'statement_tokenized', 'oracle_ids']\n"
     ]
    }
   ],
   "source": [
    "df = pd.read_csv(\"ruling_oracles_train.tsv\", sep='\\t', index_col=0)\n",
    "df = df.dropna()\n",
    "columns = ['dummy', 'id', 'statement', 'justification',\n",
    "        'ruling_without_summary', 'label', 'just_tokenized',\n",
    "        'ruling_tokenized', 'statement_tokenized', 'oracle_ids']\n",
    "print(df.columns)\n",
    "print(columns)\n",
    "df.columns = columns"
   ]
  },
  {
   "cell_type": "code",
   "execution_count": 30,
   "metadata": {},
   "outputs": [],
   "source": [
    "with open(\"liar_gpt.txt\", \"w\") as fp:\n",
    "    for line in df[\"ruling_without_summary\"].apply(lambda x: x.replace(\"\\n\", \"\")):\n",
    "        line = line.strip() + \"\\n\"\n",
    "        fp.write(line)"
   ]
  },
  {
   "cell_type": "code",
   "execution_count": 27,
   "metadata": {},
   "outputs": [],
   "source": [
    "ll = df[\"ruling_without_summary\"].apply(lambda x: x.replace(\"\\n\", \"\"))"
   ]
  },
  {
   "cell_type": "code",
   "execution_count": 31,
   "metadata": {},
   "outputs": [
    {
     "data": {
      "text/plain": [
       "(10101, 10)"
      ]
     },
     "execution_count": 31,
     "metadata": {},
     "output_type": "execute_result"
    }
   ],
   "source": [
    "df.shape"
   ]
  },
  {
   "cell_type": "code",
   "execution_count": null,
   "metadata": {},
   "outputs": [],
   "source": []
  }
 ],
 "metadata": {
  "kernelspec": {
   "display_name": "Python 3",
   "language": "python",
   "name": "python3"
  },
  "language_info": {
   "codemirror_mode": {
    "name": "ipython",
    "version": 3
   },
   "file_extension": ".py",
   "mimetype": "text/x-python",
   "name": "python",
   "nbconvert_exporter": "python",
   "pygments_lexer": "ipython3",
   "version": "3.7.1"
  }
 },
 "nbformat": 4,
 "nbformat_minor": 2
}
